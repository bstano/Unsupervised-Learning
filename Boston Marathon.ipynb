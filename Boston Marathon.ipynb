{
 "cells": [
  {
   "cell_type": "markdown",
   "metadata": {},
   "source": [
    "# Clustering Boston Marathon Data\n",
    "\n",
    "I want to take the most recently available Boston Marathon data and cluster it."
   ]
  },
  {
   "cell_type": "code",
   "execution_count": 1,
   "metadata": {},
   "outputs": [],
   "source": [
    "import numpy as np\n",
    "import pandas as pd\n",
    "import scipy\n",
    "import matplotlib.pyplot as plt\n",
    "import seaborn as sns\n",
    "%matplotlib inline\n",
    "\n",
    "\n",
    "from sklearn.preprocessing import normalize\n",
    "from sklearn.model_selection import train_test_split\n",
    "\n",
    "from sklearn import metrics\n",
    "from sklearn.metrics import pairwise_distances"
   ]
  },
  {
   "cell_type": "markdown",
   "metadata": {},
   "source": [
    "## Importing the Data\n",
    "\n",
    "First, I must import and clean the data."
   ]
  },
  {
   "cell_type": "code",
   "execution_count": 2,
   "metadata": {},
   "outputs": [],
   "source": [
    "boston = pd.read_csv('https://raw.githubusercontent.com/llimllib/bostonmarathon/master/results/2014/results.csv')"
   ]
  },
  {
   "cell_type": "code",
   "execution_count": 3,
   "metadata": {},
   "outputs": [
    {
     "name": "stdout",
     "output_type": "stream",
     "text": [
      "Data size:\n",
      "(31984, 21)\n"
     ]
    }
   ],
   "source": [
    "print('Data size:')\n",
    "print(boston.shape)"
   ]
  },
  {
   "cell_type": "code",
   "execution_count": 4,
   "metadata": {},
   "outputs": [
    {
     "data": {
      "text/html": [
       "<div>\n",
       "<style scoped>\n",
       "    .dataframe tbody tr th:only-of-type {\n",
       "        vertical-align: middle;\n",
       "    }\n",
       "\n",
       "    .dataframe tbody tr th {\n",
       "        vertical-align: top;\n",
       "    }\n",
       "\n",
       "    .dataframe thead th {\n",
       "        text-align: right;\n",
       "    }\n",
       "</style>\n",
       "<table border=\"1\" class=\"dataframe\">\n",
       "  <thead>\n",
       "    <tr style=\"text-align: right;\">\n",
       "      <th></th>\n",
       "      <th>10k</th>\n",
       "      <th>name</th>\n",
       "      <th>division</th>\n",
       "      <th>25k</th>\n",
       "      <th>gender</th>\n",
       "      <th>age</th>\n",
       "      <th>official</th>\n",
       "      <th>bib</th>\n",
       "      <th>genderdiv</th>\n",
       "      <th>ctz</th>\n",
       "      <th>...</th>\n",
       "      <th>overall</th>\n",
       "      <th>pace</th>\n",
       "      <th>state</th>\n",
       "      <th>30k</th>\n",
       "      <th>5k</th>\n",
       "      <th>half</th>\n",
       "      <th>20k</th>\n",
       "      <th>country</th>\n",
       "      <th>city</th>\n",
       "      <th>40k</th>\n",
       "    </tr>\n",
       "  </thead>\n",
       "  <tbody>\n",
       "    <tr>\n",
       "      <th>0</th>\n",
       "      <td>17.37</td>\n",
       "      <td>Yamamoto, Hiroyuki</td>\n",
       "      <td>8</td>\n",
       "      <td>47.67</td>\n",
       "      <td>M</td>\n",
       "      <td>47</td>\n",
       "      <td>85.25</td>\n",
       "      <td>W1</td>\n",
       "      <td>8</td>\n",
       "      <td>NaN</td>\n",
       "      <td>...</td>\n",
       "      <td>8</td>\n",
       "      <td>3.27</td>\n",
       "      <td>NaN</td>\n",
       "      <td>59.18</td>\n",
       "      <td>8.02</td>\n",
       "      <td>39.72</td>\n",
       "      <td>37.65</td>\n",
       "      <td>JPN</td>\n",
       "      <td>Fukuoka</td>\n",
       "      <td>80.43</td>\n",
       "    </tr>\n",
       "    <tr>\n",
       "      <th>1</th>\n",
       "      <td>32.58</td>\n",
       "      <td>Jeptoo, Rita</td>\n",
       "      <td>1</td>\n",
       "      <td>82.43</td>\n",
       "      <td>F</td>\n",
       "      <td>33</td>\n",
       "      <td>138.95</td>\n",
       "      <td>F1</td>\n",
       "      <td>1</td>\n",
       "      <td>NaN</td>\n",
       "      <td>...</td>\n",
       "      <td>21</td>\n",
       "      <td>5.30</td>\n",
       "      <td>NaN</td>\n",
       "      <td>99.33</td>\n",
       "      <td>16.22</td>\n",
       "      <td>69.47</td>\n",
       "      <td>65.83</td>\n",
       "      <td>KEN</td>\n",
       "      <td>Eldoret</td>\n",
       "      <td>132.10</td>\n",
       "    </tr>\n",
       "    <tr>\n",
       "      <th>2</th>\n",
       "      <td>16.62</td>\n",
       "      <td>Van Dyk, Ernst F.</td>\n",
       "      <td>1</td>\n",
       "      <td>45.80</td>\n",
       "      <td>M</td>\n",
       "      <td>41</td>\n",
       "      <td>80.60</td>\n",
       "      <td>W2</td>\n",
       "      <td>1</td>\n",
       "      <td>NaN</td>\n",
       "      <td>...</td>\n",
       "      <td>1</td>\n",
       "      <td>3.08</td>\n",
       "      <td>NaN</td>\n",
       "      <td>56.45</td>\n",
       "      <td>7.75</td>\n",
       "      <td>38.03</td>\n",
       "      <td>36.10</td>\n",
       "      <td>RSA</td>\n",
       "      <td>Paarl</td>\n",
       "      <td>76.10</td>\n",
       "    </tr>\n",
       "    <tr>\n",
       "      <th>3</th>\n",
       "      <td>32.57</td>\n",
       "      <td>Dibaba, Mare</td>\n",
       "      <td>3</td>\n",
       "      <td>82.43</td>\n",
       "      <td>F</td>\n",
       "      <td>24</td>\n",
       "      <td>140.58</td>\n",
       "      <td>F2</td>\n",
       "      <td>3</td>\n",
       "      <td>NaN</td>\n",
       "      <td>...</td>\n",
       "      <td>27</td>\n",
       "      <td>5.37</td>\n",
       "      <td>NaN</td>\n",
       "      <td>99.33</td>\n",
       "      <td>16.20</td>\n",
       "      <td>69.47</td>\n",
       "      <td>65.83</td>\n",
       "      <td>ETH</td>\n",
       "      <td>Shoa</td>\n",
       "      <td>132.95</td>\n",
       "    </tr>\n",
       "    <tr>\n",
       "      <th>4</th>\n",
       "      <td>17.12</td>\n",
       "      <td>Hokinoue, Kota</td>\n",
       "      <td>2</td>\n",
       "      <td>46.37</td>\n",
       "      <td>M</td>\n",
       "      <td>40</td>\n",
       "      <td>81.23</td>\n",
       "      <td>W3</td>\n",
       "      <td>2</td>\n",
       "      <td>NaN</td>\n",
       "      <td>...</td>\n",
       "      <td>2</td>\n",
       "      <td>3.10</td>\n",
       "      <td>NaN</td>\n",
       "      <td>57.03</td>\n",
       "      <td>8.02</td>\n",
       "      <td>38.60</td>\n",
       "      <td>36.58</td>\n",
       "      <td>JPN</td>\n",
       "      <td>Nogata Fukuoka</td>\n",
       "      <td>76.72</td>\n",
       "    </tr>\n",
       "  </tbody>\n",
       "</table>\n",
       "<p>5 rows × 21 columns</p>\n",
       "</div>"
      ],
      "text/plain": [
       "     10k                name  division    25k gender  age  official bib  \\\n",
       "0  17.37  Yamamoto, Hiroyuki         8  47.67      M   47     85.25  W1   \n",
       "1  32.58        Jeptoo, Rita         1  82.43      F   33    138.95  F1   \n",
       "2  16.62   Van Dyk, Ernst F.         1  45.80      M   41     80.60  W2   \n",
       "3  32.57        Dibaba, Mare         3  82.43      F   24    140.58  F2   \n",
       "4  17.12      Hokinoue, Kota         2  46.37      M   40     81.23  W3   \n",
       "\n",
       "   genderdiv  ctz   ...   overall  pace  state    30k     5k   half    20k  \\\n",
       "0          8  NaN   ...         8  3.27    NaN  59.18   8.02  39.72  37.65   \n",
       "1          1  NaN   ...        21  5.30    NaN  99.33  16.22  69.47  65.83   \n",
       "2          1  NaN   ...         1  3.08    NaN  56.45   7.75  38.03  36.10   \n",
       "3          3  NaN   ...        27  5.37    NaN  99.33  16.20  69.47  65.83   \n",
       "4          2  NaN   ...         2  3.10    NaN  57.03   8.02  38.60  36.58   \n",
       "\n",
       "  country            city     40k  \n",
       "0     JPN         Fukuoka   80.43  \n",
       "1     KEN         Eldoret  132.10  \n",
       "2     RSA           Paarl   76.10  \n",
       "3     ETH            Shoa  132.95  \n",
       "4     JPN  Nogata Fukuoka   76.72  \n",
       "\n",
       "[5 rows x 21 columns]"
      ]
     },
     "metadata": {},
     "output_type": "display_data"
    }
   ],
   "source": [
    "display(boston.head())"
   ]
  },
  {
   "cell_type": "code",
   "execution_count": 5,
   "metadata": {},
   "outputs": [
    {
     "data": {
      "text/plain": [
       "USA    27233\n",
       "CAN     2175\n",
       "GBR      346\n",
       "ITA      212\n",
       "MEX      205\n",
       "GER      182\n",
       "JPN      175\n",
       "AUS      124\n",
       "IRL      119\n",
       "FRA      115\n",
       "ESP       89\n",
       "BRA       87\n",
       "SWE       66\n",
       "SUI       62\n",
       "KOR       60\n",
       "NED       54\n",
       "HKG       53\n",
       "DEN       50\n",
       "CHN       42\n",
       "COL       40\n",
       "CHI       29\n",
       "ISL       28\n",
       "FIN       28\n",
       "BEL       27\n",
       "SIN       23\n",
       "AUT       22\n",
       "NOR       21\n",
       "RSA       19\n",
       "VEN       19\n",
       "BER       18\n",
       "       ...  \n",
       "TUR        4\n",
       "MAS        4\n",
       "SVK        4\n",
       "PHI        4\n",
       "ECU        3\n",
       "UKR        3\n",
       "PAN        3\n",
       "HUN        3\n",
       "DOM        3\n",
       "EGY        2\n",
       "THA        2\n",
       "BAH        2\n",
       "ESA        2\n",
       "QAT        2\n",
       "ROU        2\n",
       "EST        1\n",
       "BLR        1\n",
       "BOL        1\n",
       "BRN        1\n",
       "TRI        1\n",
       "MAR        1\n",
       "URU        1\n",
       "LIE        1\n",
       "INA        1\n",
       "CAY        1\n",
       "TAN        1\n",
       "ZIM        1\n",
       "VGB        1\n",
       "BAR        1\n",
       "CRO        1\n",
       "Name: country, Length: 78, dtype: int64"
      ]
     },
     "execution_count": 5,
     "metadata": {},
     "output_type": "execute_result"
    }
   ],
   "source": [
    "boston.country.value_counts()"
   ]
  },
  {
   "cell_type": "code",
   "execution_count": 6,
   "metadata": {},
   "outputs": [
    {
     "data": {
      "text/plain": [
       "10k              0\n",
       "name             0\n",
       "division         0\n",
       "25k              0\n",
       "gender           0\n",
       "age              0\n",
       "official         0\n",
       "bib              0\n",
       "genderdiv        0\n",
       "ctz          30740\n",
       "35k              0\n",
       "overall          0\n",
       "pace             0\n",
       "state         2576\n",
       "30k              0\n",
       "5k               0\n",
       "half             0\n",
       "20k              0\n",
       "country          0\n",
       "city             1\n",
       "40k              0\n",
       "dtype: int64"
      ]
     },
     "execution_count": 6,
     "metadata": {},
     "output_type": "execute_result"
    }
   ],
   "source": [
    "boston.isnull().sum()"
   ]
  },
  {
   "cell_type": "code",
   "execution_count": 7,
   "metadata": {},
   "outputs": [],
   "source": [
    "boston_data = boston.drop(['name','ctz','state','country','city','bib'],1)"
   ]
  },
  {
   "cell_type": "markdown",
   "metadata": {},
   "source": [
    "The 'ctz' and 'state' columns had more null values so they were dropped. Still, they would have been dropped anyway along with the 'name', 'country', 'city' columns simply because they are categorical and I cannot cluster with them.  It would be probably be possible to make dummy variables for country, but that would clog my data and make my clustering much less efficient.  It probably would not be worth the comuting power it would waste."
   ]
  },
  {
   "cell_type": "code",
   "execution_count": 8,
   "metadata": {},
   "outputs": [],
   "source": [
    "# create list to hold indices where participants did not compete\n",
    "problem_index = []"
   ]
  },
  {
   "cell_type": "code",
   "execution_count": 9,
   "metadata": {},
   "outputs": [],
   "source": [
    "c = list(boston_data.columns)"
   ]
  },
  {
   "cell_type": "code",
   "execution_count": 10,
   "metadata": {},
   "outputs": [
    {
     "data": {
      "text/plain": [
       "0"
      ]
     },
     "execution_count": 10,
     "metadata": {},
     "output_type": "execute_result"
    }
   ],
   "source": [
    "boston_data['age'].astype(str).str.contains('-').sum()"
   ]
  },
  {
   "cell_type": "code",
   "execution_count": 11,
   "metadata": {},
   "outputs": [
    {
     "name": "stdout",
     "output_type": "stream",
     "text": [
      "10k :  50\n",
      "division :  0\n",
      "25k :  216\n",
      "gender :  0\n",
      "age :  0\n",
      "official :  0\n",
      "genderdiv :  0\n",
      "35k :  34\n",
      "overall :  0\n",
      "pace :  0\n",
      "30k :  40\n",
      "5k :  52\n",
      "half :  72\n",
      "20k :  51\n",
      "40k :  39\n"
     ]
    }
   ],
   "source": [
    "for var in c: \n",
    "    print(var,': ',boston_data[var].astype(str).str.contains('-').sum())"
   ]
  },
  {
   "cell_type": "code",
   "execution_count": 12,
   "metadata": {},
   "outputs": [],
   "source": [
    "var = ['5k','10k','20k','25k','30k','35k','40k','half']\n",
    "for v in var:\n",
    "    boston_data[boston_data[v]=='-']\n",
    "    a = list(boston_data[boston_data[v]=='-'].index)\n",
    "    problem_index = problem_index + a"
   ]
  },
  {
   "cell_type": "code",
   "execution_count": 13,
   "metadata": {},
   "outputs": [
    {
     "name": "stdout",
     "output_type": "stream",
     "text": [
      "Removing the  335  data points when the participants did not finish one of the races\n"
     ]
    }
   ],
   "source": [
    "problem_index = set(problem_index)\n",
    "problem_index = list(problem_index)\n",
    "print('Removing the ',len(problem_index),' data points when the participants did not finish one of the races')\n",
    "\n",
    "boston_data = boston_data.drop(problem_index)"
   ]
  },
  {
   "cell_type": "code",
   "execution_count": 14,
   "metadata": {},
   "outputs": [],
   "source": [
    "boston_data.gender = np.where(boston_data.gender=='F',0,1)"
   ]
  },
  {
   "cell_type": "markdown",
   "metadata": {},
   "source": [
    "# Clustering\n",
    "\n",
    "I want to be able to test the consistency of my solution, so I will split the data into 8 equal peices to test. "
   ]
  },
  {
   "cell_type": "code",
   "execution_count": 15,
   "metadata": {},
   "outputs": [],
   "source": [
    "# Normalize\n",
    "boston_norm = normalize(boston_data)"
   ]
  },
  {
   "cell_type": "code",
   "execution_count": 16,
   "metadata": {},
   "outputs": [],
   "source": [
    "# Split the data into four equally-sized samples. First we break it in half:\n",
    "X_half1, X_half2 = train_test_split(\n",
    "    boston_norm,\n",
    "    test_size=0.5,\n",
    "    random_state=42)\n",
    "\n",
    "# Then we halve the halves.\n",
    "X_q1, X_q2 = train_test_split(\n",
    "    X_half1,\n",
    "    test_size=0.5,\n",
    "    random_state=42)\n",
    "\n",
    "X_q3, X_q4 = train_test_split(\n",
    "    X_half2,\n",
    "    test_size=0.5,\n",
    "    random_state=42)\n",
    "\n",
    "# Halve the halved halves to make eights\n",
    "X1, X2 = train_test_split(\n",
    "    X_q1,\n",
    "    test_size=0.5,\n",
    "    random_state=42)\n",
    "\n",
    "X3, X4 = train_test_split(\n",
    "    X_q2,\n",
    "    test_size=0.5,\n",
    "    random_state=42)\n",
    "\n",
    "X5, X6 = train_test_split(\n",
    "    X_q3,\n",
    "    test_size=0.5,\n",
    "    random_state=42)\n",
    "\n",
    "X7, X8 = train_test_split(\n",
    "    X_q4,\n",
    "    test_size=0.5,\n",
    "    random_state=42)\n"
   ]
  },
  {
   "cell_type": "markdown",
   "metadata": {},
   "source": [
    "## K-Means\n",
    "\n",
    "I will try K-Means algorithm using 2 through 6 clusters to see which configuration works best."
   ]
  },
  {
   "cell_type": "code",
   "execution_count": 17,
   "metadata": {},
   "outputs": [],
   "source": [
    "scores = pd.DataFrame()"
   ]
  },
  {
   "cell_type": "code",
   "execution_count": 18,
   "metadata": {},
   "outputs": [],
   "source": [
    "from sklearn.cluster import KMeans"
   ]
  },
  {
   "cell_type": "code",
   "execution_count": 19,
   "metadata": {},
   "outputs": [
    {
     "name": "stdout",
     "output_type": "stream",
     "text": [
      "\n",
      "2 clusters\n",
      "X1 Score: 0.44872452984389244\n",
      "X2 Score: 0.45647116162456486\n",
      "X3 Score: 0.4801174870862263\n",
      "X4 Score: 0.4542764644276751\n",
      "X5 Score: 0.44938873158068815\n",
      "X6 Score: 0.45862154047692627\n",
      "X7 Score: 0.4482513706566841\n",
      "X8 Score: 0.44422496338321343\n",
      "\n",
      "3 clusters\n",
      "X1 Score: 0.48458835380199683\n",
      "X2 Score: 0.47580390931899375\n",
      "X3 Score: 0.45685024961521126\n",
      "X4 Score: 0.48117687720826186\n",
      "X5 Score: 0.47848565126999126\n",
      "X6 Score: 0.4780156714892416\n",
      "X7 Score: 0.4803957949644856\n",
      "X8 Score: 0.4822236783493554\n",
      "\n",
      "4 clusters\n",
      "X1 Score: 0.49608116821491616\n",
      "X2 Score: 0.49262023018598605\n",
      "X3 Score: 0.48860857333585633\n",
      "X4 Score: 0.4967802411633486\n",
      "X5 Score: 0.4941940242069862\n",
      "X6 Score: 0.49589204755247773\n",
      "X7 Score: 0.49818497905353293\n",
      "X8 Score: 0.49842634909532657\n",
      "\n",
      "5 clusters\n",
      "X1 Score: 0.4545757269210209\n",
      "X2 Score: 0.37907308541965296\n",
      "X3 Score: 0.4475316311745548\n",
      "X4 Score: 0.4480488512012007\n",
      "X5 Score: 0.39731342327325736\n",
      "X6 Score: 0.44556192878478096\n",
      "X7 Score: 0.4567685445995674\n",
      "X8 Score: 0.4597734886422817\n",
      "\n",
      "6 clusters\n",
      "X1 Score: 0.4591452456319083\n",
      "X2 Score: 0.4486183409035686\n",
      "X3 Score: 0.44654885889852836\n",
      "X4 Score: 0.445042813065417\n",
      "X5 Score: 0.4456075738849672\n",
      "X6 Score: 0.45917181478440344\n",
      "X7 Score: 0.45202188886517797\n",
      "X8 Score: 0.4512641074861441\n"
     ]
    }
   ],
   "source": [
    "for clusters in [2,3,4,5,6]:\n",
    "    print('\\n{} clusters'.format(clusters))\n",
    "    n=1\n",
    "    for sample in [X1,X2,X3,X4,X5,X6,X7,X8]:\n",
    "        a = []\n",
    "        model = KMeans(n_clusters=clusters, random_state=42).fit(sample)\n",
    "        labels = model.labels_\n",
    "        score = metrics.silhouette_score(sample, labels, metric='euclidean')\n",
    "        print('X{} Score: {}'.format(n,score))\n",
    "        a.append(score)\n",
    "        n=n+1"
   ]
  },
  {
   "cell_type": "markdown",
   "metadata": {},
   "source": [
    "4 clusters appears to be the most consistent configuration of K-Means. I wilkl run the algorithm again to store the results."
   ]
  },
  {
   "cell_type": "code",
   "execution_count": 20,
   "metadata": {},
   "outputs": [],
   "source": [
    "for sample in [X1,X2,X3,X4,X5,X6,X7,X8]:\n",
    "    score_k4 = []\n",
    "    model = KMeans(n_clusters=4, random_state=42).fit(sample)\n",
    "    labels = model.labels_\n",
    "    score = metrics.silhouette_score(sample, labels, metric='euclidean')\n",
    "    score_k4.append(score)"
   ]
  },
  {
   "cell_type": "markdown",
   "metadata": {},
   "source": [
    "## Mean Shift\n",
    "\n",
    "I will try mean shift with optimal settings for this data."
   ]
  },
  {
   "cell_type": "code",
   "execution_count": 21,
   "metadata": {},
   "outputs": [],
   "source": [
    "from sklearn.cluster import MeanShift, estimate_bandwidth\n",
    "\n",
    "# Here we set the bandwidth. This function automatically derives a bandwidth\n",
    "# number based on an inspection of the distances among points in the data.\n",
    "bandwidth = estimate_bandwidth(X1, quantile=0.2, n_samples=500)"
   ]
  },
  {
   "cell_type": "code",
   "execution_count": 25,
   "metadata": {},
   "outputs": [
    {
     "name": "stdout",
     "output_type": "stream",
     "text": [
      "Clusters: 3  Score: 0.5068115062326602\n",
      "Clusters: 5  Score: 0.4354864471575222\n",
      "Clusters: 4  Score: 0.5181994318609359\n",
      "Clusters: 4  Score: 0.5303146873914673\n",
      "Clusters: 7  Score: 0.4517055478101586\n",
      "Clusters: 5  Score: 0.41346086794227394\n",
      "Clusters: 5  Score: 0.4033016347396149\n",
      "Clusters: 4  Score: 0.5270419955756872\n"
     ]
    }
   ],
   "source": [
    "for sample in [X1,X2,X3,X4,X5,X6,X7,X8]:\n",
    "    ms = MeanShift(bandwidth=bandwidth, bin_seeding=True)\n",
    "    ms.fit(sample)\n",
    "    labels = ms.labels_\n",
    "    score = metrics.silhouette_score(sample, labels, metric='euclidean')\n",
    "    n_clusters_ = len(np.unique(labels))\n",
    "    print(\"Clusters: {}  Score: {}\".format(n_clusters_,score))  "
   ]
  },
  {
   "cell_type": "markdown",
   "metadata": {},
   "source": [
    "Mean shift is not very cinsistent at all with this data."
   ]
  },
  {
   "cell_type": "markdown",
   "metadata": {},
   "source": [
    "## Spectral Affinity "
   ]
  },
  {
   "cell_type": "code",
   "execution_count": 26,
   "metadata": {},
   "outputs": [],
   "source": [
    "from sklearn.cluster import SpectralClustering"
   ]
  },
  {
   "cell_type": "code",
   "execution_count": 27,
   "metadata": {},
   "outputs": [
    {
     "name": "stdout",
     "output_type": "stream",
     "text": [
      "0.4219621856288802\n",
      "0.44499138413142214\n",
      "0.4607459535888277\n",
      "0.43810581197362863\n",
      "0.439202555008501\n",
      "0.4419151753998351\n",
      "0.4396669166174898\n",
      "0.4274090088414685\n"
     ]
    }
   ],
   "source": [
    "print('2 Clusters')\n",
    "for sample in [X1, X2, X3, X4,X5,X6,X7,X8]:\n",
    "    n_clusters=2\n",
    "    sc = SpectralClustering(n_clusters=n_clusters,random_state=42)\n",
    "    sc.fit(sample)\n",
    "    predict = sc.fit_predict(sample)\n",
    "    print(metrics.silhouette_score(sample, predict, metric='euclidean'))"
   ]
  },
  {
   "cell_type": "code",
   "execution_count": 28,
   "metadata": {},
   "outputs": [
    {
     "name": "stdout",
     "output_type": "stream",
     "text": [
      "3 Clusters\n",
      "0.48442919391184835\n",
      "0.4737413375605101\n",
      "0.40301935050181553\n",
      "0.47856619142579326\n",
      "0.47688147616407617\n",
      "0.47533848711983445\n",
      "0.4788307846911644\n",
      "0.47920023462563544\n"
     ]
    }
   ],
   "source": [
    "print('3 Clusters')\n",
    "for sample in [X1, X2, X3, X4,X5,X6,X7,X8]:\n",
    "    n_clusters=3\n",
    "    sc = SpectralClustering(n_clusters=n_clusters)\n",
    "    sc.fit(sample)\n",
    "    predict = sc.fit_predict(sample)\n",
    "    print(metrics.silhouette_score(sample, predict, metric='euclidean'))"
   ]
  },
  {
   "cell_type": "code",
   "execution_count": 29,
   "metadata": {},
   "outputs": [
    {
     "name": "stdout",
     "output_type": "stream",
     "text": [
      "0.49387183654293776\n",
      "0.49157655900527913\n",
      "0.4854688372970365\n",
      "0.49522443863006865\n",
      "0.4911637551852718\n",
      "0.4933084668663269\n",
      "0.49629125620864845\n",
      "0.4962526500035263\n"
     ]
    }
   ],
   "source": [
    "print('4 Clusters')\n",
    "for sample in [X1, X2, X3, X4,X5,X6,X7,X8]:\n",
    "    score_s4 = []\n",
    "    n_clusters=4\n",
    "    sc = SpectralClustering(n_clusters=n_clusters)\n",
    "    sc.fit(sample)\n",
    "    predict = sc.fit_predict(sample)\n",
    "    score = metrics.silhouette_score(sample, predict, metric='euclidean')\n",
    "    print(score)\n",
    "    score_s4.append(score)"
   ]
  },
  {
   "cell_type": "code",
   "execution_count": 30,
   "metadata": {},
   "outputs": [
    {
     "name": "stdout",
     "output_type": "stream",
     "text": [
      "0.43793074081222366\n",
      "0.4381682447143053\n",
      "0.4283498942389413\n",
      "0.4368797576708418\n",
      "0.434135113082674\n",
      "0.4356336857796402\n",
      "0.4400309109783827\n",
      "0.43825528072128067\n"
     ]
    }
   ],
   "source": [
    "print('5 Clusters')\n",
    "for sample in [X1, X2, X3, X4,X5,X6,X7,X8]:\n",
    "    n_clusters=5\n",
    "    sc = SpectralClustering(n_clusters=n_clusters)\n",
    "    sc.fit(sample)\n",
    "    predict = sc.fit_predict(sample)\n",
    "    print(metrics.silhouette_score(sample, predict, metric='euclidean'))"
   ]
  },
  {
   "cell_type": "code",
   "execution_count": 31,
   "metadata": {},
   "outputs": [
    {
     "name": "stdout",
     "output_type": "stream",
     "text": [
      "0.42317786108426414\n",
      "0.40327426150228\n",
      "0.3906156681938359\n",
      "0.40942619418496157\n",
      "0.413425075581812\n",
      "0.4178036330581078\n",
      "0.41647945729350755\n",
      "0.4093877878602887\n"
     ]
    }
   ],
   "source": [
    "print('6 Clusters')\n",
    "for sample in [X1, X2, X3, X4,X5,X6,X7,X8]:\n",
    "    n_clusters=6\n",
    "    sc = SpectralClustering(n_clusters=n_clusters)\n",
    "    sc.fit(sample)\n",
    "    predict = sc.fit_predict(sample)\n",
    "    print(metrics.silhouette_score(sample, predict, metric='euclidean'))"
   ]
  },
  {
   "cell_type": "markdown",
   "metadata": {},
   "source": [
    "Once again, 4 clusters seems to be the be configuration for this data. I will store the 4 cluster spectral affinity score and compare it to the K-Means 4 cluster score."
   ]
  },
  {
   "cell_type": "markdown",
   "metadata": {},
   "source": [
    "## Modeling Conclusion"
   ]
  },
  {
   "cell_type": "code",
   "execution_count": 32,
   "metadata": {},
   "outputs": [
    {
     "name": "stdout",
     "output_type": "stream",
     "text": [
      "0.49842634909532657\n",
      "0.0\n"
     ]
    }
   ],
   "source": [
    "score_k4 = np.array(score_k4)\n",
    "print(score_k4.mean())\n",
    "print(score_k4.std())"
   ]
  },
  {
   "cell_type": "code",
   "execution_count": 33,
   "metadata": {},
   "outputs": [
    {
     "name": "stdout",
     "output_type": "stream",
     "text": [
      "0.4962526500035263\n",
      "0.0\n"
     ]
    }
   ],
   "source": [
    "score_s4 = np.array(score_s4)\n",
    "print(score_s4.mean())\n",
    "print(score_s4.std())"
   ]
  },
  {
   "cell_type": "markdown",
   "metadata": {},
   "source": [
    "K-Means with 4 Clusters appears to be the best clustering solution. "
   ]
  },
  {
   "cell_type": "markdown",
   "metadata": {},
   "source": [
    "# Data Story\n",
    "\n",
    "Once you have a solution you like, write a data story, including visualizations, where you teach the reader something about the Boston Marathon based on your clusters"
   ]
  },
  {
   "cell_type": "code",
   "execution_count": 36,
   "metadata": {},
   "outputs": [],
   "source": [
    "model = KMeans(n_clusters=4, random_state=42).fit(boston_data)\n",
    "labels = model.labels_"
   ]
  },
  {
   "cell_type": "code",
   "execution_count": 37,
   "metadata": {},
   "outputs": [
    {
     "data": {
      "text/plain": [
       "31649"
      ]
     },
     "execution_count": 37,
     "metadata": {},
     "output_type": "execute_result"
    }
   ],
   "source": [
    "len(labels)"
   ]
  },
  {
   "cell_type": "code",
   "execution_count": 38,
   "metadata": {},
   "outputs": [],
   "source": [
    "boston = boston.drop(problem_index)"
   ]
  },
  {
   "cell_type": "code",
   "execution_count": 39,
   "metadata": {},
   "outputs": [],
   "source": [
    "boston['labels'] = labels"
   ]
  },
  {
   "cell_type": "code",
   "execution_count": 40,
   "metadata": {},
   "outputs": [],
   "source": [
    "boston['label'] = list(labels)"
   ]
  },
  {
   "cell_type": "code",
   "execution_count": 41,
   "metadata": {},
   "outputs": [
    {
     "data": {
      "text/html": [
       "<div>\n",
       "<style scoped>\n",
       "    .dataframe tbody tr th:only-of-type {\n",
       "        vertical-align: middle;\n",
       "    }\n",
       "\n",
       "    .dataframe tbody tr th {\n",
       "        vertical-align: top;\n",
       "    }\n",
       "\n",
       "    .dataframe thead th {\n",
       "        text-align: right;\n",
       "    }\n",
       "</style>\n",
       "<table border=\"1\" class=\"dataframe\">\n",
       "  <thead>\n",
       "    <tr style=\"text-align: right;\">\n",
       "      <th></th>\n",
       "      <th>10k</th>\n",
       "      <th>name</th>\n",
       "      <th>division</th>\n",
       "      <th>25k</th>\n",
       "      <th>gender</th>\n",
       "      <th>age</th>\n",
       "      <th>official</th>\n",
       "      <th>bib</th>\n",
       "      <th>genderdiv</th>\n",
       "      <th>ctz</th>\n",
       "      <th>...</th>\n",
       "      <th>state</th>\n",
       "      <th>30k</th>\n",
       "      <th>5k</th>\n",
       "      <th>half</th>\n",
       "      <th>20k</th>\n",
       "      <th>country</th>\n",
       "      <th>city</th>\n",
       "      <th>40k</th>\n",
       "      <th>labels</th>\n",
       "      <th>label</th>\n",
       "    </tr>\n",
       "  </thead>\n",
       "  <tbody>\n",
       "    <tr>\n",
       "      <th>0</th>\n",
       "      <td>17.37</td>\n",
       "      <td>Yamamoto, Hiroyuki</td>\n",
       "      <td>8</td>\n",
       "      <td>47.67</td>\n",
       "      <td>M</td>\n",
       "      <td>47</td>\n",
       "      <td>85.25</td>\n",
       "      <td>W1</td>\n",
       "      <td>8</td>\n",
       "      <td>NaN</td>\n",
       "      <td>...</td>\n",
       "      <td>NaN</td>\n",
       "      <td>59.18</td>\n",
       "      <td>8.02</td>\n",
       "      <td>39.72</td>\n",
       "      <td>37.65</td>\n",
       "      <td>JPN</td>\n",
       "      <td>Fukuoka</td>\n",
       "      <td>80.43</td>\n",
       "      <td>3</td>\n",
       "      <td>3</td>\n",
       "    </tr>\n",
       "    <tr>\n",
       "      <th>1</th>\n",
       "      <td>32.58</td>\n",
       "      <td>Jeptoo, Rita</td>\n",
       "      <td>1</td>\n",
       "      <td>82.43</td>\n",
       "      <td>F</td>\n",
       "      <td>33</td>\n",
       "      <td>138.95</td>\n",
       "      <td>F1</td>\n",
       "      <td>1</td>\n",
       "      <td>NaN</td>\n",
       "      <td>...</td>\n",
       "      <td>NaN</td>\n",
       "      <td>99.33</td>\n",
       "      <td>16.22</td>\n",
       "      <td>69.47</td>\n",
       "      <td>65.83</td>\n",
       "      <td>KEN</td>\n",
       "      <td>Eldoret</td>\n",
       "      <td>132.10</td>\n",
       "      <td>3</td>\n",
       "      <td>3</td>\n",
       "    </tr>\n",
       "    <tr>\n",
       "      <th>2</th>\n",
       "      <td>16.62</td>\n",
       "      <td>Van Dyk, Ernst F.</td>\n",
       "      <td>1</td>\n",
       "      <td>45.80</td>\n",
       "      <td>M</td>\n",
       "      <td>41</td>\n",
       "      <td>80.60</td>\n",
       "      <td>W2</td>\n",
       "      <td>1</td>\n",
       "      <td>NaN</td>\n",
       "      <td>...</td>\n",
       "      <td>NaN</td>\n",
       "      <td>56.45</td>\n",
       "      <td>7.75</td>\n",
       "      <td>38.03</td>\n",
       "      <td>36.10</td>\n",
       "      <td>RSA</td>\n",
       "      <td>Paarl</td>\n",
       "      <td>76.10</td>\n",
       "      <td>3</td>\n",
       "      <td>3</td>\n",
       "    </tr>\n",
       "    <tr>\n",
       "      <th>3</th>\n",
       "      <td>32.57</td>\n",
       "      <td>Dibaba, Mare</td>\n",
       "      <td>3</td>\n",
       "      <td>82.43</td>\n",
       "      <td>F</td>\n",
       "      <td>24</td>\n",
       "      <td>140.58</td>\n",
       "      <td>F2</td>\n",
       "      <td>3</td>\n",
       "      <td>NaN</td>\n",
       "      <td>...</td>\n",
       "      <td>NaN</td>\n",
       "      <td>99.33</td>\n",
       "      <td>16.20</td>\n",
       "      <td>69.47</td>\n",
       "      <td>65.83</td>\n",
       "      <td>ETH</td>\n",
       "      <td>Shoa</td>\n",
       "      <td>132.95</td>\n",
       "      <td>3</td>\n",
       "      <td>3</td>\n",
       "    </tr>\n",
       "    <tr>\n",
       "      <th>4</th>\n",
       "      <td>17.12</td>\n",
       "      <td>Hokinoue, Kota</td>\n",
       "      <td>2</td>\n",
       "      <td>46.37</td>\n",
       "      <td>M</td>\n",
       "      <td>40</td>\n",
       "      <td>81.23</td>\n",
       "      <td>W3</td>\n",
       "      <td>2</td>\n",
       "      <td>NaN</td>\n",
       "      <td>...</td>\n",
       "      <td>NaN</td>\n",
       "      <td>57.03</td>\n",
       "      <td>8.02</td>\n",
       "      <td>38.60</td>\n",
       "      <td>36.58</td>\n",
       "      <td>JPN</td>\n",
       "      <td>Nogata Fukuoka</td>\n",
       "      <td>76.72</td>\n",
       "      <td>3</td>\n",
       "      <td>3</td>\n",
       "    </tr>\n",
       "  </tbody>\n",
       "</table>\n",
       "<p>5 rows × 23 columns</p>\n",
       "</div>"
      ],
      "text/plain": [
       "     10k                name  division    25k gender  age  official bib  \\\n",
       "0  17.37  Yamamoto, Hiroyuki         8  47.67      M   47     85.25  W1   \n",
       "1  32.58        Jeptoo, Rita         1  82.43      F   33    138.95  F1   \n",
       "2  16.62   Van Dyk, Ernst F.         1  45.80      M   41     80.60  W2   \n",
       "3  32.57        Dibaba, Mare         3  82.43      F   24    140.58  F2   \n",
       "4  17.12      Hokinoue, Kota         2  46.37      M   40     81.23  W3   \n",
       "\n",
       "   genderdiv  ctz  ...  state    30k     5k   half    20k country  \\\n",
       "0          8  NaN  ...    NaN  59.18   8.02  39.72  37.65     JPN   \n",
       "1          1  NaN  ...    NaN  99.33  16.22  69.47  65.83     KEN   \n",
       "2          1  NaN  ...    NaN  56.45   7.75  38.03  36.10     RSA   \n",
       "3          3  NaN  ...    NaN  99.33  16.20  69.47  65.83     ETH   \n",
       "4          2  NaN  ...    NaN  57.03   8.02  38.60  36.58     JPN   \n",
       "\n",
       "             city     40k labels label  \n",
       "0         Fukuoka   80.43      3     3  \n",
       "1         Eldoret  132.10      3     3  \n",
       "2           Paarl   76.10      3     3  \n",
       "3            Shoa  132.95      3     3  \n",
       "4  Nogata Fukuoka   76.72      3     3  \n",
       "\n",
       "[5 rows x 23 columns]"
      ]
     },
     "execution_count": 41,
     "metadata": {},
     "output_type": "execute_result"
    }
   ],
   "source": [
    "boston.head()"
   ]
  },
  {
   "cell_type": "code",
   "execution_count": 65,
   "metadata": {},
   "outputs": [],
   "source": [
    "boston['10k'] = boston['10k'].astype(float)\n",
    "boston['division'] = boston['division'].astype(float)\n",
    "boston['age'] = boston['age'].astype(float)\n",
    "boston['official'] = boston['official'].astype(float)\n",
    "boston['genderdiv'] = boston['genderdiv'].astype(float)\n",
    "boston['30k'] = boston['30k'].astype(float)\n",
    "boston['5k'] = boston['5k'].astype(float)\n",
    "boston['half'] = boston['half'].astype(float)\n",
    "boston['20k'] = boston['20k'].astype(float)\n",
    "boston['40k'] = boston['40k'].astype(float)"
   ]
  },
  {
   "cell_type": "code",
   "execution_count": 94,
   "metadata": {},
   "outputs": [
    {
     "data": {
      "image/png": "[encoded data removed]",
      "text/plain": [
       "<Figure size 432x288 with 1 Axes>"
      ]
     },
     "metadata": {},
     "output_type": "display_data"
    }
   ],
   "source": [
    "sns.boxplot(data=boston,x='labels',y='gender')\n",
    "plt.show()"
   ]
  },
  {
   "cell_type": "code",
   "execution_count": 96,
   "metadata": {},
   "outputs": [
    {
     "data": {
      "text/plain": [
       "<matplotlib.axes._subplots.AxesSubplot at 0x17a7da30>"
      ]
     },
     "execution_count": 96,
     "metadata": {},
     "output_type": "execute_result"
    },
    {
     "data": {
      "image/png": "[encoded data removed]",
      "text/plain": [
       "<Figure size 432x288 with 1 Axes>"
      ]
     },
     "metadata": {},
     "output_type": "display_data"
    }
   ],
   "source": [
    "sns.barplot(data=boston,y='labels',x='gender')"
   ]
  },
  {
   "cell_type": "code",
   "execution_count": 92,
   "metadata": {},
   "outputs": [
    {
     "data": {
      "image/png": "[encoded data removed]",
      "text/plain": [
       "<Figure size 576x1800 with 5 Axes>"
      ]
     },
     "metadata": {},
     "output_type": "display_data"
    }
   ],
   "source": [
    "fig = plt.figure(figsize=(8, 25))\n",
    "ax = fig.add_subplot(511)\n",
    "sns.violinplot(x=\"labels\", y=\"5k\", hue=\"gender\", data=boston, split=True, ax=ax)\n",
    "plt.xlabel('Cluster Number')\n",
    "plt.ylabel('Time (minutes)')\n",
    "plt.title('5K Time for Those Who Finished')\n",
    "\n",
    "ax = fig.add_subplot(512)\n",
    "sns.violinplot(x=\"labels\", y=\"10k\", hue=\"gender\", data=boston, split=True, ax=ax)\n",
    "plt.xlabel('Cluster Number')\n",
    "plt.ylabel('Time (minutes)')\n",
    "plt.title('10K Time for Those Who Finished')\n",
    "\n",
    "ax = fig.add_subplot(513)\n",
    "sns.violinplot(x=\"labels\", y=\"20k\", hue=\"gender\", data=boston, split=True, ax=ax)\n",
    "plt.xlabel('Cluster Number')\n",
    "plt.ylabel('Time (minutes)')\n",
    "plt.title('20K Time for Those Who Finished')\n",
    "\n",
    "ax = fig.add_subplot(514)\n",
    "sns.violinplot(x=\"labels\", y=\"30k\", hue=\"gender\", data=boston, split=True, ax=ax)\n",
    "plt.xlabel('Cluster Number')\n",
    "plt.ylabel('Time (minutes)')\n",
    "plt.title('30K Time for Those Who Finished')\n",
    "\n",
    "ax = fig.add_subplot(515)\n",
    "sns.violinplot(x=\"labels\", y=\"40k\", hue=\"gender\", data=boston, split=True, ax=ax)\n",
    "plt.xlabel('Cluster Number')\n",
    "plt.ylabel('Time (minutes)')\n",
    "plt.title('40K Time for Those Who Finished')\n",
    "\n",
    "plt.show()"
   ]
  },
  {
   "cell_type": "markdown",
   "metadata": {},
   "source": [
    "Cluster 3 is the group the faster groups, while group 0 is the slowest groups. Interestingly, group 2 appears to be slower than group 1, but both have very similar speeds."
   ]
  },
  {
   "cell_type": "code",
   "execution_count": null,
   "metadata": {},
   "outputs": [],
   "source": []
  }
 ],
 "metadata": {
  "kernelspec": {
   "display_name": "Python 3",
   "language": "python",
   "name": "python3"
  },
  "language_info": {
   "codemirror_mode": {
    "name": "ipython",
    "version": 3
   },
   "file_extension": ".py",
   "mimetype": "text/x-python",
   "name": "python",
   "nbconvert_exporter": "python",
   "pygments_lexer": "ipython3",
   "version": "3.6.4"
  }
 },
 "nbformat": 4,
 "nbformat_minor": 2
}
